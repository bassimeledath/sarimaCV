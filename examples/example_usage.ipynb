{
 "cells": [
  {
   "cell_type": "code",
   "execution_count": 7,
   "metadata": {},
   "outputs": [],
   "source": [
    "import sys\n",
    "sys.path.append(\"..\")\n",
    "\n",
    "from sarimaCV import cross_validation\n",
    "import pandas as pd\n",
    "import statsmodels.api as sm\n",
    "import matplotlib.pyplot as plt"
   ]
  },
  {
   "cell_type": "code",
   "execution_count": 5,
   "metadata": {},
   "outputs": [],
   "source": [
    "import statsmodels.api as sm\n",
    "\n",
    "# Load the dataset\n",
    "dataset = sm.datasets.co2.load_pandas()\n",
    "co2_data = dataset.data"
   ]
  },
  {
   "cell_type": "code",
   "execution_count": 10,
   "metadata": {},
   "outputs": [
    {
     "name": "stdout",
     "output_type": "stream",
     "text": [
      "Max runtime exceeded. Cancelling remaining tasks can take up to 1-2 mins.\n"
     ]
    },
    {
     "data": {
      "text/html": [
       "<div>\n",
       "<style scoped>\n",
       "    .dataframe tbody tr th:only-of-type {\n",
       "        vertical-align: middle;\n",
       "    }\n",
       "\n",
       "    .dataframe tbody tr th {\n",
       "        vertical-align: top;\n",
       "    }\n",
       "\n",
       "    .dataframe thead th {\n",
       "        text-align: right;\n",
       "    }\n",
       "</style>\n",
       "<table border=\"1\" class=\"dataframe\">\n",
       "  <thead>\n",
       "    <tr style=\"text-align: right;\">\n",
       "      <th></th>\n",
       "      <th>Order</th>\n",
       "      <th>AVG RMSE</th>\n",
       "    </tr>\n",
       "  </thead>\n",
       "  <tbody>\n",
       "    <tr>\n",
       "      <th>5</th>\n",
       "      <td>(0, 0, 0, 0, 1, 1)</td>\n",
       "      <td>1.222867</td>\n",
       "    </tr>\n",
       "    <tr>\n",
       "      <th>8</th>\n",
       "      <td>(0, 0, 0, 1, 1, 1)</td>\n",
       "      <td>1.491584</td>\n",
       "    </tr>\n",
       "    <tr>\n",
       "      <th>6</th>\n",
       "      <td>(0, 0, 1, 0, 1, 0)</td>\n",
       "      <td>1.985306</td>\n",
       "    </tr>\n",
       "    <tr>\n",
       "      <th>3</th>\n",
       "      <td>(0, 0, 0, 1, 1, 0)</td>\n",
       "      <td>2.143431</td>\n",
       "    </tr>\n",
       "    <tr>\n",
       "      <th>1</th>\n",
       "      <td>(0, 0, 0, 0, 1, 0)</td>\n",
       "      <td>2.259462</td>\n",
       "    </tr>\n",
       "    <tr>\n",
       "      <th>7</th>\n",
       "      <td>(0, 0, 0, 1, 0, 0)</td>\n",
       "      <td>2.266398</td>\n",
       "    </tr>\n",
       "    <tr>\n",
       "      <th>10</th>\n",
       "      <td>(0, 0, 1, 0, 0, 1)</td>\n",
       "      <td>163.957619</td>\n",
       "    </tr>\n",
       "    <tr>\n",
       "      <th>4</th>\n",
       "      <td>(0, 0, 0, 0, 0, 1)</td>\n",
       "      <td>190.065842</td>\n",
       "    </tr>\n",
       "    <tr>\n",
       "      <th>9</th>\n",
       "      <td>(0, 0, 2, 0, 0, 0)</td>\n",
       "      <td>262.744597</td>\n",
       "    </tr>\n",
       "    <tr>\n",
       "      <th>2</th>\n",
       "      <td>(0, 0, 1, 0, 0, 0)</td>\n",
       "      <td>320.686068</td>\n",
       "    </tr>\n",
       "    <tr>\n",
       "      <th>0</th>\n",
       "      <td>(0, 0, 0, 0, 0, 0)</td>\n",
       "      <td>370.289012</td>\n",
       "    </tr>\n",
       "  </tbody>\n",
       "</table>\n",
       "</div>"
      ],
      "text/plain": [
       "                 Order    AVG RMSE\n",
       "5   (0, 0, 0, 0, 1, 1)    1.222867\n",
       "8   (0, 0, 0, 1, 1, 1)    1.491584\n",
       "6   (0, 0, 1, 0, 1, 0)    1.985306\n",
       "3   (0, 0, 0, 1, 1, 0)    2.143431\n",
       "1   (0, 0, 0, 0, 1, 0)    2.259462\n",
       "7   (0, 0, 0, 1, 0, 0)    2.266398\n",
       "10  (0, 0, 1, 0, 0, 1)  163.957619\n",
       "4   (0, 0, 0, 0, 0, 1)  190.065842\n",
       "9   (0, 0, 2, 0, 0, 0)  262.744597\n",
       "2   (0, 0, 1, 0, 0, 0)  320.686068\n",
       "0   (0, 0, 0, 0, 0, 0)  370.289012"
      ]
     },
     "execution_count": 10,
     "metadata": {},
     "output_type": "execute_result"
    }
   ],
   "source": [
    "results = cross_validation(\n",
    "    co2_data[\"co2\"], \n",
    "    max_p=3, \n",
    "    max_d=1, \n",
    "    max_q=3, \n",
    "    max_P=1, \n",
    "    max_D=1, \n",
    "    max_Q=1, \n",
    "    s=12, \n",
    "    n_folds=3, \n",
    "    recursive=False, \n",
    "    forecast_size=3, \n",
    "    n_cores=-1, \n",
    "    max_runtime=60\n",
    ")\n",
    "\n",
    "results"
   ]
  },
  {
   "cell_type": "code",
   "execution_count": null,
   "metadata": {},
   "outputs": [],
   "source": []
  }
 ],
 "metadata": {
  "kernelspec": {
   "display_name": "venv",
   "language": "python",
   "name": "python3"
  },
  "language_info": {
   "codemirror_mode": {
    "name": "ipython",
    "version": 3
   },
   "file_extension": ".py",
   "mimetype": "text/x-python",
   "name": "python",
   "nbconvert_exporter": "python",
   "pygments_lexer": "ipython3",
   "version": "3.10.9"
  }
 },
 "nbformat": 4,
 "nbformat_minor": 2
}
