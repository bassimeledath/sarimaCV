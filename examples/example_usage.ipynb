{
 "cells": [
  {
   "cell_type": "code",
   "execution_count": 1,
   "metadata": {},
   "outputs": [],
   "source": [
    "import sys\n",
    "sys.path.append(\"..\")\n",
    "\n",
    "from sarimaCV import cross_validation\n",
    "import pandas as pd\n",
    "import statsmodels.api as sm\n",
    "import matplotlib.pyplot as plt\n",
    "import numpy as np"
   ]
  },
  {
   "cell_type": "code",
   "execution_count": 2,
   "metadata": {},
   "outputs": [],
   "source": [
    "# Load the dataset\n",
    "dataset = sm.datasets.co2.load_pandas()\n",
    "co2_data = dataset.data"
   ]
  },
  {
   "cell_type": "code",
   "execution_count": 11,
   "metadata": {},
   "outputs": [
    {
     "data": {
      "text/html": [
       "<div>\n",
       "<style scoped>\n",
       "    .dataframe tbody tr th:only-of-type {\n",
       "        vertical-align: middle;\n",
       "    }\n",
       "\n",
       "    .dataframe tbody tr th {\n",
       "        vertical-align: top;\n",
       "    }\n",
       "\n",
       "    .dataframe thead th {\n",
       "        text-align: right;\n",
       "    }\n",
       "</style>\n",
       "<table border=\"1\" class=\"dataframe\">\n",
       "  <thead>\n",
       "    <tr style=\"text-align: right;\">\n",
       "      <th></th>\n",
       "      <th>Order</th>\n",
       "      <th>AVG RMSE</th>\n",
       "    </tr>\n",
       "  </thead>\n",
       "  <tbody>\n",
       "    <tr>\n",
       "      <th>30</th>\n",
       "      <td>(0, 1, 1, 1, 1, 0)</td>\n",
       "      <td>0.324056</td>\n",
       "    </tr>\n",
       "    <tr>\n",
       "      <th>54</th>\n",
       "      <td>(1, 1, 0, 1, 1, 0)</td>\n",
       "      <td>0.327243</td>\n",
       "    </tr>\n",
       "    <tr>\n",
       "      <th>62</th>\n",
       "      <td>(1, 1, 1, 1, 1, 0)</td>\n",
       "      <td>0.327551</td>\n",
       "    </tr>\n",
       "    <tr>\n",
       "      <th>38</th>\n",
       "      <td>(1, 0, 0, 1, 1, 0)</td>\n",
       "      <td>0.331112</td>\n",
       "    </tr>\n",
       "    <tr>\n",
       "      <th>46</th>\n",
       "      <td>(1, 0, 1, 1, 1, 0)</td>\n",
       "      <td>0.332337</td>\n",
       "    </tr>\n",
       "    <tr>\n",
       "      <th>...</th>\n",
       "      <td>...</td>\n",
       "      <td>...</td>\n",
       "    </tr>\n",
       "    <tr>\n",
       "      <th>13</th>\n",
       "      <td>(0, 0, 1, 1, 0, 1)</td>\n",
       "      <td>39.632997</td>\n",
       "    </tr>\n",
       "    <tr>\n",
       "      <th>9</th>\n",
       "      <td>(0, 0, 1, 0, 0, 1)</td>\n",
       "      <td>201.220112</td>\n",
       "    </tr>\n",
       "    <tr>\n",
       "      <th>1</th>\n",
       "      <td>(0, 0, 0, 0, 0, 1)</td>\n",
       "      <td>262.741145</td>\n",
       "    </tr>\n",
       "    <tr>\n",
       "      <th>8</th>\n",
       "      <td>(0, 0, 1, 0, 0, 0)</td>\n",
       "      <td>320.686037</td>\n",
       "    </tr>\n",
       "    <tr>\n",
       "      <th>0</th>\n",
       "      <td>(0, 0, 0, 0, 0, 0)</td>\n",
       "      <td>370.289012</td>\n",
       "    </tr>\n",
       "  </tbody>\n",
       "</table>\n",
       "<p>64 rows × 2 columns</p>\n",
       "</div>"
      ],
      "text/plain": [
       "                 Order    AVG RMSE\n",
       "30  (0, 1, 1, 1, 1, 0)    0.324056\n",
       "54  (1, 1, 0, 1, 1, 0)    0.327243\n",
       "62  (1, 1, 1, 1, 1, 0)    0.327551\n",
       "38  (1, 0, 0, 1, 1, 0)    0.331112\n",
       "46  (1, 0, 1, 1, 1, 0)    0.332337\n",
       "..                 ...         ...\n",
       "13  (0, 0, 1, 1, 0, 1)   39.632997\n",
       "9   (0, 0, 1, 0, 0, 1)  201.220112\n",
       "1   (0, 0, 0, 0, 0, 1)  262.741145\n",
       "8   (0, 0, 1, 0, 0, 0)  320.686037\n",
       "0   (0, 0, 0, 0, 0, 0)  370.289012\n",
       "\n",
       "[64 rows x 2 columns]"
      ]
     },
     "execution_count": 11,
     "metadata": {},
     "output_type": "execute_result"
    }
   ],
   "source": [
    "results = cross_validation(\n",
    "    np.array(co2_data[\"co2\"]), \n",
    "    max_p=1, \n",
    "    max_d=1, \n",
    "    max_q=1, \n",
    "    max_P=1, \n",
    "    max_D=1, \n",
    "    max_Q=1, \n",
    "    s=2, \n",
    "    n_folds=3, \n",
    "    recursive=True, \n",
    "    forecast_size=3, \n",
    "    n_cores=-1\n",
    ")\n",
    "\n",
    "results"
   ]
  },
  {
   "cell_type": "code",
   "execution_count": null,
   "metadata": {},
   "outputs": [],
   "source": []
  },
  {
   "cell_type": "code",
   "execution_count": null,
   "metadata": {},
   "outputs": [],
   "source": []
  }
 ],
 "metadata": {
  "kernelspec": {
   "display_name": "venv",
   "language": "python",
   "name": "python3"
  },
  "language_info": {
   "codemirror_mode": {
    "name": "ipython",
    "version": 3
   },
   "file_extension": ".py",
   "mimetype": "text/x-python",
   "name": "python",
   "nbconvert_exporter": "python",
   "pygments_lexer": "ipython3",
   "version": "3.10.9"
  }
 },
 "nbformat": 4,
 "nbformat_minor": 2
}
