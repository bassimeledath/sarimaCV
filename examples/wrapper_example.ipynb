{
 "cells": [
  {
   "cell_type": "code",
   "execution_count": 4,
   "metadata": {},
   "outputs": [],
   "source": [
    "import sys\n",
    "sys.path.append(\"..\")\n",
    "\n",
    "from sarimaCV import parallelize\n",
    "import pandas as pd\n",
    "import statsmodels.api as sm\n",
    "import matplotlib.pyplot as plt\n",
    "import numpy as np\n",
    "import warnings\n",
    "from statsmodels.tsa.statespace.sarimax import SARIMAX\n",
    "from statsmodels.tools.sm_exceptions import ConvergenceWarning"
   ]
  },
  {
   "cell_type": "code",
   "execution_count": 2,
   "metadata": {},
   "outputs": [],
   "source": [
    "# Load the dataset\n",
    "dataset = sm.datasets.co2.load_pandas()\n",
    "co2_data = dataset.data"
   ]
  },
  {
   "cell_type": "code",
   "execution_count": 6,
   "metadata": {},
   "outputs": [],
   "source": [
    "# Define a function that trains a single model over a single fold and add the @parallelize decorator with the desired parameters\n",
    "@parallelize(n_folds=5, pred_len=1)\n",
    "def eval_fold(data, p, d, q, P, D, Q, s):\n",
    "    with warnings.catch_warnings():\n",
    "        warnings.simplefilter('ignore', UserWarning)\n",
    "        warnings.simplefilter('ignore', ConvergenceWarning)\n",
    "        '''Evaluate a single fold of the cross-validation process'''\n",
    "        train, test = data\n",
    "\n",
    "        # Standard forecasting method\n",
    "        model = SARIMAX(train, order=(p, d, q),\n",
    "                        seasonal_order=(P, D, Q, s))\n",
    "        forecasts = model.fit(disp=0).forecast(steps=len(test))\n",
    "\n",
    "        sse = np.sum((test - np.array(forecasts))**2)\n",
    "        return sse"
   ]
  },
  {
   "cell_type": "code",
   "execution_count": 9,
   "metadata": {},
   "outputs": [
    {
     "data": {
      "text/html": [
       "<div>\n",
       "<style scoped>\n",
       "    .dataframe tbody tr th:only-of-type {\n",
       "        vertical-align: middle;\n",
       "    }\n",
       "\n",
       "    .dataframe tbody tr th {\n",
       "        vertical-align: top;\n",
       "    }\n",
       "\n",
       "    .dataframe thead th {\n",
       "        text-align: right;\n",
       "    }\n",
       "</style>\n",
       "<table border=\"1\" class=\"dataframe\">\n",
       "  <thead>\n",
       "    <tr style=\"text-align: right;\">\n",
       "      <th></th>\n",
       "      <th>Error</th>\n",
       "    </tr>\n",
       "    <tr>\n",
       "      <th>ARIMA</th>\n",
       "      <th></th>\n",
       "    </tr>\n",
       "  </thead>\n",
       "  <tbody>\n",
       "    <tr>\n",
       "      <th>(1, 1, 1, 1, 1, 1)</th>\n",
       "      <td>0.037990</td>\n",
       "    </tr>\n",
       "    <tr>\n",
       "      <th>(1, 1, 1, 0, 1, 1)</th>\n",
       "      <td>0.039063</td>\n",
       "    </tr>\n",
       "    <tr>\n",
       "      <th>(1, 1, 1, 1, 1, 0)</th>\n",
       "      <td>0.047991</td>\n",
       "    </tr>\n",
       "    <tr>\n",
       "      <th>(1, 1, 0, 1, 1, 1)</th>\n",
       "      <td>0.070881</td>\n",
       "    </tr>\n",
       "    <tr>\n",
       "      <th>(0, 1, 1, 1, 1, 1)</th>\n",
       "      <td>0.072467</td>\n",
       "    </tr>\n",
       "  </tbody>\n",
       "</table>\n",
       "</div>"
      ],
      "text/plain": [
       "                       Error\n",
       "ARIMA                       \n",
       "(1, 1, 1, 1, 1, 1)  0.037990\n",
       "(1, 1, 1, 0, 1, 1)  0.039063\n",
       "(1, 1, 1, 1, 1, 0)  0.047991\n",
       "(1, 1, 0, 1, 1, 1)  0.070881\n",
       "(0, 1, 1, 1, 1, 1)  0.072467"
      ]
     },
     "execution_count": 9,
     "metadata": {},
     "output_type": "execute_result"
    }
   ],
   "source": [
    "res = eval_fold(\n",
    "    data=co2_data[\"co2\"],\n",
    "    p=[0, 1],\n",
    "    d=[0, 1],\n",
    "    q=[0, 1],\n",
    "    P=[0, 1],\n",
    "    D=[1],\n",
    "    Q=[0, 1],\n",
    "    s=12\n",
    ")\n",
    "res.head()"
   ]
  }
 ],
 "metadata": {
  "kernelspec": {
   "display_name": "base",
   "language": "python",
   "name": "python3"
  },
  "language_info": {
   "codemirror_mode": {
    "name": "ipython",
    "version": 3
   },
   "file_extension": ".py",
   "mimetype": "text/x-python",
   "name": "python",
   "nbconvert_exporter": "python",
   "pygments_lexer": "ipython3",
   "version": "3.11.5"
  }
 },
 "nbformat": 4,
 "nbformat_minor": 2
}
